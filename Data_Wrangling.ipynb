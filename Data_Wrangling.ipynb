{
 "cells": [
  {
   "cell_type": "code",
   "execution_count": 1,
   "id": "3c77741b",
   "metadata": {},
   "outputs": [],
   "source": [
    "# Importing necessary libraries\n",
    "import pandas as pd\n",
    "import numpy as np\n",
    "import matplotlib.pyplot as plt\n",
    "%matplotlib inline\n",
    "from datetime import datetime as dt\n",
    "import calendar\n",
    "import seaborn as sns\n",
    "import warnings\n",
    "warnings.filterwarnings('ignore')"
   ]
  },
  {
   "cell_type": "markdown",
   "id": "e75aadee",
   "metadata": {},
   "source": [
    "### 1. Data Acquisition"
   ]
  },
  {
   "cell_type": "code",
   "execution_count": 2,
   "id": "6fc64926",
   "metadata": {},
   "outputs": [],
   "source": [
    "# Loading Crime Dataset\n",
    "crime_data = pd.read_csv('Crime_Data_from_2020_to_Present.csv')"
   ]
  },
  {
   "cell_type": "code",
   "execution_count": 3,
   "id": "ef66e956",
   "metadata": {},
   "outputs": [
    {
     "data": {
      "text/plain": [
       "(807377, 28)"
      ]
     },
     "execution_count": 3,
     "metadata": {},
     "output_type": "execute_result"
    }
   ],
   "source": [
    "# Checking the shape of the dataframe\n",
    "crime_data.shape"
   ]
  },
  {
   "cell_type": "markdown",
   "id": "0fdb697f",
   "metadata": {},
   "source": [
    "### 2. Data Inspection:"
   ]
  },
  {
   "cell_type": "code",
   "execution_count": 4,
   "id": "eb062538",
   "metadata": {},
   "outputs": [
    {
     "data": {
      "text/html": [
       "<div>\n",
       "<style scoped>\n",
       "    .dataframe tbody tr th:only-of-type {\n",
       "        vertical-align: middle;\n",
       "    }\n",
       "\n",
       "    .dataframe tbody tr th {\n",
       "        vertical-align: top;\n",
       "    }\n",
       "\n",
       "    .dataframe thead th {\n",
       "        text-align: right;\n",
       "    }\n",
       "</style>\n",
       "<table border=\"1\" class=\"dataframe\">\n",
       "  <thead>\n",
       "    <tr style=\"text-align: right;\">\n",
       "      <th></th>\n",
       "      <th>DR_NO</th>\n",
       "      <th>Date Rptd</th>\n",
       "      <th>DATE OCC</th>\n",
       "      <th>TIME OCC</th>\n",
       "      <th>AREA</th>\n",
       "      <th>AREA NAME</th>\n",
       "      <th>Rpt Dist No</th>\n",
       "      <th>Part 1-2</th>\n",
       "      <th>Crm Cd</th>\n",
       "      <th>Crm Cd Desc</th>\n",
       "      <th>...</th>\n",
       "      <th>Status</th>\n",
       "      <th>Status Desc</th>\n",
       "      <th>Crm Cd 1</th>\n",
       "      <th>Crm Cd 2</th>\n",
       "      <th>Crm Cd 3</th>\n",
       "      <th>Crm Cd 4</th>\n",
       "      <th>LOCATION</th>\n",
       "      <th>Cross Street</th>\n",
       "      <th>LAT</th>\n",
       "      <th>LON</th>\n",
       "    </tr>\n",
       "  </thead>\n",
       "  <tbody>\n",
       "    <tr>\n",
       "      <th>0</th>\n",
       "      <td>10304468</td>\n",
       "      <td>1/8/20 0:00</td>\n",
       "      <td>1/8/20 0:00</td>\n",
       "      <td>2230</td>\n",
       "      <td>3</td>\n",
       "      <td>Southwest</td>\n",
       "      <td>377</td>\n",
       "      <td>2</td>\n",
       "      <td>624</td>\n",
       "      <td>BATTERY - SIMPLE ASSAULT</td>\n",
       "      <td>...</td>\n",
       "      <td>AO</td>\n",
       "      <td>Adult Other</td>\n",
       "      <td>624.0</td>\n",
       "      <td>NaN</td>\n",
       "      <td>NaN</td>\n",
       "      <td>NaN</td>\n",
       "      <td>1100 W  39TH                         PL</td>\n",
       "      <td>NaN</td>\n",
       "      <td>34.0141</td>\n",
       "      <td>-118.2978</td>\n",
       "    </tr>\n",
       "    <tr>\n",
       "      <th>1</th>\n",
       "      <td>190101086</td>\n",
       "      <td>1/2/20 0:00</td>\n",
       "      <td>1/1/20 0:00</td>\n",
       "      <td>330</td>\n",
       "      <td>1</td>\n",
       "      <td>Central</td>\n",
       "      <td>163</td>\n",
       "      <td>2</td>\n",
       "      <td>624</td>\n",
       "      <td>BATTERY - SIMPLE ASSAULT</td>\n",
       "      <td>...</td>\n",
       "      <td>IC</td>\n",
       "      <td>Invest Cont</td>\n",
       "      <td>624.0</td>\n",
       "      <td>NaN</td>\n",
       "      <td>NaN</td>\n",
       "      <td>NaN</td>\n",
       "      <td>700 S  HILL                         ST</td>\n",
       "      <td>NaN</td>\n",
       "      <td>34.0459</td>\n",
       "      <td>-118.2545</td>\n",
       "    </tr>\n",
       "    <tr>\n",
       "      <th>2</th>\n",
       "      <td>200110444</td>\n",
       "      <td>4/14/20 0:00</td>\n",
       "      <td>2/13/20 0:00</td>\n",
       "      <td>1200</td>\n",
       "      <td>1</td>\n",
       "      <td>Central</td>\n",
       "      <td>155</td>\n",
       "      <td>2</td>\n",
       "      <td>845</td>\n",
       "      <td>SEX OFFENDER REGISTRANT OUT OF COMPLIANCE</td>\n",
       "      <td>...</td>\n",
       "      <td>AA</td>\n",
       "      <td>Adult Arrest</td>\n",
       "      <td>845.0</td>\n",
       "      <td>NaN</td>\n",
       "      <td>NaN</td>\n",
       "      <td>NaN</td>\n",
       "      <td>200 E  6TH                          ST</td>\n",
       "      <td>NaN</td>\n",
       "      <td>34.0448</td>\n",
       "      <td>-118.2474</td>\n",
       "    </tr>\n",
       "    <tr>\n",
       "      <th>3</th>\n",
       "      <td>191501505</td>\n",
       "      <td>1/1/20 0:00</td>\n",
       "      <td>1/1/20 0:00</td>\n",
       "      <td>1730</td>\n",
       "      <td>15</td>\n",
       "      <td>N Hollywood</td>\n",
       "      <td>1543</td>\n",
       "      <td>2</td>\n",
       "      <td>745</td>\n",
       "      <td>VANDALISM - MISDEAMEANOR ($399 OR UNDER)</td>\n",
       "      <td>...</td>\n",
       "      <td>IC</td>\n",
       "      <td>Invest Cont</td>\n",
       "      <td>745.0</td>\n",
       "      <td>998.0</td>\n",
       "      <td>NaN</td>\n",
       "      <td>NaN</td>\n",
       "      <td>5400    CORTEEN                      PL</td>\n",
       "      <td>NaN</td>\n",
       "      <td>34.1685</td>\n",
       "      <td>-118.4019</td>\n",
       "    </tr>\n",
       "    <tr>\n",
       "      <th>4</th>\n",
       "      <td>191921269</td>\n",
       "      <td>1/1/20 0:00</td>\n",
       "      <td>1/1/20 0:00</td>\n",
       "      <td>415</td>\n",
       "      <td>19</td>\n",
       "      <td>Mission</td>\n",
       "      <td>1998</td>\n",
       "      <td>2</td>\n",
       "      <td>740</td>\n",
       "      <td>VANDALISM - FELONY ($400 &amp; OVER, ALL CHURCH VA...</td>\n",
       "      <td>...</td>\n",
       "      <td>IC</td>\n",
       "      <td>Invest Cont</td>\n",
       "      <td>740.0</td>\n",
       "      <td>NaN</td>\n",
       "      <td>NaN</td>\n",
       "      <td>NaN</td>\n",
       "      <td>14400    TITUS                        ST</td>\n",
       "      <td>NaN</td>\n",
       "      <td>34.2198</td>\n",
       "      <td>-118.4468</td>\n",
       "    </tr>\n",
       "  </tbody>\n",
       "</table>\n",
       "<p>5 rows × 28 columns</p>\n",
       "</div>"
      ],
      "text/plain": [
       "       DR_NO     Date Rptd      DATE OCC  TIME OCC  AREA    AREA NAME  \\\n",
       "0   10304468   1/8/20 0:00   1/8/20 0:00      2230     3    Southwest   \n",
       "1  190101086   1/2/20 0:00   1/1/20 0:00       330     1      Central   \n",
       "2  200110444  4/14/20 0:00  2/13/20 0:00      1200     1      Central   \n",
       "3  191501505   1/1/20 0:00   1/1/20 0:00      1730    15  N Hollywood   \n",
       "4  191921269   1/1/20 0:00   1/1/20 0:00       415    19      Mission   \n",
       "\n",
       "   Rpt Dist No Part 1-2  Crm Cd  \\\n",
       "0          377        2     624   \n",
       "1          163        2     624   \n",
       "2          155        2     845   \n",
       "3         1543        2     745   \n",
       "4         1998        2     740   \n",
       "\n",
       "                                         Crm Cd Desc  ... Status  \\\n",
       "0                           BATTERY - SIMPLE ASSAULT  ...     AO   \n",
       "1                           BATTERY - SIMPLE ASSAULT  ...     IC   \n",
       "2          SEX OFFENDER REGISTRANT OUT OF COMPLIANCE  ...     AA   \n",
       "3           VANDALISM - MISDEAMEANOR ($399 OR UNDER)  ...     IC   \n",
       "4  VANDALISM - FELONY ($400 & OVER, ALL CHURCH VA...  ...     IC   \n",
       "\n",
       "    Status Desc Crm Cd 1 Crm Cd 2  Crm Cd 3 Crm Cd 4  \\\n",
       "0   Adult Other    624.0      NaN       NaN      NaN   \n",
       "1   Invest Cont    624.0      NaN       NaN      NaN   \n",
       "2  Adult Arrest    845.0      NaN       NaN      NaN   \n",
       "3   Invest Cont    745.0    998.0       NaN      NaN   \n",
       "4   Invest Cont    740.0      NaN       NaN      NaN   \n",
       "\n",
       "                                   LOCATION Cross Street      LAT       LON  \n",
       "0   1100 W  39TH                         PL          NaN  34.0141 -118.2978  \n",
       "1    700 S  HILL                         ST          NaN  34.0459 -118.2545  \n",
       "2    200 E  6TH                          ST          NaN  34.0448 -118.2474  \n",
       "3   5400    CORTEEN                      PL          NaN  34.1685 -118.4019  \n",
       "4  14400    TITUS                        ST          NaN  34.2198 -118.4468  \n",
       "\n",
       "[5 rows x 28 columns]"
      ]
     },
     "execution_count": 4,
     "metadata": {},
     "output_type": "execute_result"
    }
   ],
   "source": [
    "# Displaying first 5 rows of the dataframe\n",
    "crime_data.head()"
   ]
  },
  {
   "cell_type": "code",
   "execution_count": 5,
   "id": "39511481",
   "metadata": {},
   "outputs": [],
   "source": [
    "# Creating Copy of the Dataframe\n",
    "data_crime = crime_data.copy()"
   ]
  },
  {
   "cell_type": "code",
   "execution_count": 6,
   "id": "0d4baef7",
   "metadata": {},
   "outputs": [],
   "source": [
    "# Creating Copy of the Dataframe\n",
    "data_crime = crime_data.copy()"
   ]
  },
  {
   "cell_type": "code",
   "execution_count": 7,
   "id": "8359be77",
   "metadata": {},
   "outputs": [
    {
     "data": {
      "text/plain": [
       "DR_NO               int64\n",
       "Date Rptd          object\n",
       "DATE OCC           object\n",
       "TIME OCC            int64\n",
       "AREA                int64\n",
       "AREA NAME          object\n",
       "Rpt Dist No         int64\n",
       "Part 1-2           object\n",
       "Crm Cd              int64\n",
       "Crm Cd Desc        object\n",
       "Mocodes            object\n",
       "Vict Age            int64\n",
       "Vict Sex           object\n",
       "Vict Descent       object\n",
       "Premis Cd         float64\n",
       "Premis Desc        object\n",
       "Weapon Used Cd    float64\n",
       "Weapon Desc        object\n",
       "Status             object\n",
       "Status Desc        object\n",
       "Crm Cd 1          float64\n",
       "Crm Cd 2          float64\n",
       "Crm Cd 3          float64\n",
       "Crm Cd 4          float64\n",
       "LOCATION           object\n",
       "Cross Street       object\n",
       "LAT               float64\n",
       "LON               float64\n",
       "dtype: object"
      ]
     },
     "execution_count": 7,
     "metadata": {},
     "output_type": "execute_result"
    }
   ],
   "source": [
    "# Checking datatypes of the Dataframe\n",
    "crime_data.dtypes"
   ]
  },
  {
   "cell_type": "code",
   "execution_count": 8,
   "id": "5583b931",
   "metadata": {},
   "outputs": [
    {
     "data": {
      "text/plain": [
       "Index(['DR_NO', 'Date Rptd', 'DATE OCC', 'TIME OCC', 'AREA', 'AREA NAME',\n",
       "       'Rpt Dist No', 'Part 1-2', 'Crm Cd', 'Crm Cd Desc', 'Mocodes',\n",
       "       'Vict Age', 'Vict Sex', 'Vict Descent', 'Premis Cd', 'Premis Desc',\n",
       "       'Weapon Used Cd', 'Weapon Desc', 'Status', 'Status Desc', 'Crm Cd 1',\n",
       "       'Crm Cd 2', 'Crm Cd 3', 'Crm Cd 4', 'LOCATION', 'Cross Street', 'LAT',\n",
       "       'LON'],\n",
       "      dtype='object')"
      ]
     },
     "execution_count": 8,
     "metadata": {},
     "output_type": "execute_result"
    }
   ],
   "source": [
    "# Printing Columns of the Dataframe\n",
    "crime_data.columns"
   ]
  },
  {
   "cell_type": "code",
   "execution_count": 9,
   "id": "d335c365",
   "metadata": {},
   "outputs": [
    {
     "name": "stdout",
     "output_type": "stream",
     "text": [
      "<class 'pandas.core.frame.DataFrame'>\n",
      "RangeIndex: 807377 entries, 0 to 807376\n",
      "Data columns (total 28 columns):\n",
      " #   Column          Non-Null Count   Dtype  \n",
      "---  ------          --------------   -----  \n",
      " 0   DR_NO           807377 non-null  int64  \n",
      " 1   Date Rptd       807377 non-null  object \n",
      " 2   DATE OCC        807377 non-null  object \n",
      " 3   TIME OCC        807377 non-null  int64  \n",
      " 4   AREA            807377 non-null  int64  \n",
      " 5   AREA NAME       807377 non-null  object \n",
      " 6   Rpt Dist No     807377 non-null  int64  \n",
      " 7   Part 1-2        807377 non-null  object \n",
      " 8   Crm Cd          807377 non-null  int64  \n",
      " 9   Crm Cd Desc     807377 non-null  object \n",
      " 10  Mocodes         696010 non-null  object \n",
      " 11  Vict Age        807377 non-null  int64  \n",
      " 12  Vict Sex        701468 non-null  object \n",
      " 13  Vict Descent    701460 non-null  object \n",
      " 14  Premis Cd       807368 non-null  float64\n",
      " 15  Premis Desc     806901 non-null  object \n",
      " 16  Weapon Used Cd  281174 non-null  float64\n",
      " 17  Weapon Desc     281174 non-null  object \n",
      " 18  Status          807377 non-null  object \n",
      " 19  Status Desc     807377 non-null  object \n",
      " 20  Crm Cd 1        807367 non-null  float64\n",
      " 21  Crm Cd 2        59483 non-null   float64\n",
      " 22  Crm Cd 3        1987 non-null    float64\n",
      " 23  Crm Cd 4        58 non-null      float64\n",
      " 24  LOCATION        807377 non-null  object \n",
      " 25  Cross Street    129232 non-null  object \n",
      " 26  LAT             807377 non-null  float64\n",
      " 27  LON             807377 non-null  float64\n",
      "dtypes: float64(8), int64(6), object(14)\n",
      "memory usage: 172.5+ MB\n"
     ]
    }
   ],
   "source": [
    "# Information about the Dataframe including the index dtype and columns, non-null values and memory usage\n",
    "crime_data.info()"
   ]
  },
  {
   "cell_type": "markdown",
   "id": "d91ce4c3",
   "metadata": {},
   "source": [
    "### 3. Data Cleaning:"
   ]
  },
  {
   "cell_type": "code",
   "execution_count": 10,
   "id": "3e4aa42e",
   "metadata": {},
   "outputs": [
    {
     "data": {
      "text/plain": [
       "DR_NO                  0\n",
       "Date Rptd              0\n",
       "DATE OCC               0\n",
       "TIME OCC               0\n",
       "AREA                   0\n",
       "AREA NAME              0\n",
       "Rpt Dist No            0\n",
       "Part 1-2               0\n",
       "Crm Cd                 0\n",
       "Crm Cd Desc            0\n",
       "Mocodes           111367\n",
       "Vict Age               0\n",
       "Vict Sex          105909\n",
       "Vict Descent      105917\n",
       "Premis Cd              9\n",
       "Premis Desc          476\n",
       "Weapon Used Cd    526203\n",
       "Weapon Desc       526203\n",
       "Status                 0\n",
       "Status Desc            0\n",
       "Crm Cd 1              10\n",
       "Crm Cd 2          747894\n",
       "Crm Cd 3          805390\n",
       "Crm Cd 4          807319\n",
       "LOCATION               0\n",
       "Cross Street      678145\n",
       "LAT                    0\n",
       "LON                    0\n",
       "dtype: int64"
      ]
     },
     "execution_count": 10,
     "metadata": {},
     "output_type": "execute_result"
    }
   ],
   "source": [
    "# checking the missing values in crime dataframe\n",
    "crime_data.isna().sum()"
   ]
  },
  {
   "cell_type": "code",
   "execution_count": 11,
   "id": "b02474df",
   "metadata": {},
   "outputs": [],
   "source": [
    "# functions to drop/dropna columns\n",
    "def drop_columns(df,columns_to_drop):\n",
    "    return df.drop(columns=columns_to_drop,inplace=True)\n",
    "\n",
    "def dropna_columns(df,columns_to_drop):\n",
    "    return df.dropna(subset=columns_to_drop,inplace=True)"
   ]
  },
  {
   "cell_type": "code",
   "execution_count": 12,
   "id": "7652c96b",
   "metadata": {},
   "outputs": [],
   "source": [
    "# Droping Column\n",
    "column_to_dropna = ['Crm Cd 1']\n",
    "dropna_columns(crime_data,column_to_dropna)"
   ]
  },
  {
   "cell_type": "code",
   "execution_count": 13,
   "id": "4371268a",
   "metadata": {},
   "outputs": [
    {
     "name": "stdout",
     "output_type": "stream",
     "text": [
      "['F' 'M' 'X']\n"
     ]
    }
   ],
   "source": [
    "# handling the H and - values by adding them to X\n",
    "crime_data['Vict Sex'].replace(to_replace=['H','-'],value='X',inplace=True)\n",
    "crime_data['Vict Sex'].fillna('X',inplace=True)\n",
    "print(crime_data['Vict Sex'].unique())"
   ]
  },
  {
   "cell_type": "code",
   "execution_count": 14,
   "id": "f06f5fc5",
   "metadata": {},
   "outputs": [
    {
     "data": {
      "text/plain": [
       "M    333678\n",
       "F    297639\n",
       "X    176050\n",
       "Name: Vict Sex, dtype: int64"
      ]
     },
     "execution_count": 14,
     "metadata": {},
     "output_type": "execute_result"
    }
   ],
   "source": [
    "# Gender count of victims\n",
    "crime_data['Vict Sex'].value_counts()"
   ]
  },
  {
   "cell_type": "code",
   "execution_count": 15,
   "id": "c157eba2",
   "metadata": {},
   "outputs": [],
   "source": [
    "# adding column for - weapon used or not \n",
    "crime_data['Weapon Used'] = crime_data['Weapon Used Cd'].apply(lambda x: 1 if pd.notna(x) else 0)"
   ]
  },
  {
   "cell_type": "code",
   "execution_count": 16,
   "id": "c982752c",
   "metadata": {},
   "outputs": [],
   "source": [
    "# filling missing values with 'unknown' and '0'\n",
    "crime_data['Premis Desc'] = crime_data['Premis Desc'].fillna('Unknown')\n",
    "crime_data['Premis Cd'] = crime_data['Premis Cd'].fillna(0)"
   ]
  },
  {
   "cell_type": "code",
   "execution_count": 17,
   "id": "cbae9adb",
   "metadata": {},
   "outputs": [],
   "source": [
    "# replaced nan values of 'cross street' with '' and added them to Location column \n",
    "crime_data['Cross Street'].fillna('',inplace=True)\n",
    "crime_data['LOCATION'] = crime_data['LOCATION'] + ' ' + crime_data['Cross Street']"
   ]
  },
  {
   "cell_type": "code",
   "execution_count": 18,
   "id": "99c89e77",
   "metadata": {},
   "outputs": [
    {
     "data": {
      "text/plain": [
       "Crm Cd 4          807309\n",
       "Crm Cd 3          805380\n",
       "Crm Cd 2          747894\n",
       "Weapon Used Cd    526196\n",
       "Weapon Desc       526196\n",
       "Mocodes           111367\n",
       "Vict Descent      105916\n",
       "DR_NO                  0\n",
       "LON                    0\n",
       "LAT                    0\n",
       "Cross Street           0\n",
       "LOCATION               0\n",
       "Crm Cd 1               0\n",
       "Status Desc            0\n",
       "Status                 0\n",
       "Premis Cd              0\n",
       "Premis Desc            0\n",
       "Date Rptd              0\n",
       "Vict Sex               0\n",
       "Vict Age               0\n",
       "Crm Cd Desc            0\n",
       "Crm Cd                 0\n",
       "Part 1-2               0\n",
       "Rpt Dist No            0\n",
       "AREA NAME              0\n",
       "AREA                   0\n",
       "TIME OCC               0\n",
       "DATE OCC               0\n",
       "Weapon Used            0\n",
       "dtype: int64"
      ]
     },
     "execution_count": 18,
     "metadata": {},
     "output_type": "execute_result"
    }
   ],
   "source": [
    "# Checking any Null values in the Dataframe\n",
    "crime_data.isna().sum().sort_values(ascending=False)"
   ]
  },
  {
   "cell_type": "code",
   "execution_count": 19,
   "id": "ced17307",
   "metadata": {},
   "outputs": [],
   "source": [
    "# converting datetime column to correct datatype\n",
    "crime_data['Date Rptd'] = pd.to_datetime(crime_data['Date Rptd'])"
   ]
  },
  {
   "cell_type": "code",
   "execution_count": 20,
   "id": "070deb37",
   "metadata": {},
   "outputs": [],
   "source": [
    "# Creating copy of the Dataframe\n",
    "crime_data1 = crime_data.copy()"
   ]
  },
  {
   "cell_type": "code",
   "execution_count": 21,
   "id": "ffdb848f",
   "metadata": {},
   "outputs": [
    {
     "data": {
      "text/plain": [
       "(807367, 29)"
      ]
     },
     "execution_count": 21,
     "metadata": {},
     "output_type": "execute_result"
    }
   ],
   "source": [
    "# Checking shape of the Dataframe \n",
    "crime_data.shape"
   ]
  },
  {
   "cell_type": "code",
   "execution_count": 22,
   "id": "6a8dce06",
   "metadata": {},
   "outputs": [],
   "source": [
    "# converting time to hour minute format\n",
    "crime_data['TIME OCC'] = crime_data['TIME OCC'].apply(lambda x: f'{x//100:02}:{x%100:02}')"
   ]
  },
  {
   "cell_type": "code",
   "execution_count": 23,
   "id": "d826d7f6",
   "metadata": {},
   "outputs": [],
   "source": [
    "# Combining date and time (hour, minute) of crime occured\n",
    "crime_data['Date Time OCC'] = pd.to_datetime(crime_data['DATE OCC'].str.split().str[0]+' '+crime_data['TIME OCC'].astype(str))"
   ]
  },
  {
   "cell_type": "code",
   "execution_count": 24,
   "id": "44fae5a3",
   "metadata": {},
   "outputs": [],
   "source": [
    "# Converting the Datatype of the Columns\n",
    "crime_data['Date Rptd'] = pd.to_datetime(crime_data['Date Rptd'])\n",
    "crime_data['Date Time OCC'] = pd.to_datetime(crime_data['Date Time OCC'])"
   ]
  },
  {
   "cell_type": "code",
   "execution_count": 25,
   "id": "2fe8d432",
   "metadata": {},
   "outputs": [],
   "source": [
    "# rearranging columns\n",
    "temp = crime_data.pop('Date Time OCC')\n",
    "crime_data.insert(2,'Date Time OCC',temp)"
   ]
  },
  {
   "cell_type": "code",
   "execution_count": 26,
   "id": "19664a68",
   "metadata": {},
   "outputs": [
    {
     "name": "stdout",
     "output_type": "stream",
     "text": [
      "H    247787\n",
      "W    164842\n",
      "B    115215\n",
      "X     77446\n",
      "O     64019\n",
      "A     17678\n",
      "K      4297\n",
      "F      3360\n",
      "C      3089\n",
      "J      1123\n",
      "V       830\n",
      "I       765\n",
      "Z       408\n",
      "P       216\n",
      "U       166\n",
      "D        59\n",
      "G        55\n",
      "L        49\n",
      "S        45\n",
      "-         2\n",
      "Name: Vict Descent, dtype: int64\n",
      "The missing values in Vict Descent column: 105916\n"
     ]
    }
   ],
   "source": [
    "# count of victim descents and missing values\n",
    "print(crime_data['Vict Descent'].value_counts())\n",
    "print('The missing values in Vict Descent column:',crime_data['Vict Descent'].isna().sum())"
   ]
  },
  {
   "cell_type": "code",
   "execution_count": 27,
   "id": "b7c9d1ce",
   "metadata": {},
   "outputs": [],
   "source": [
    "# filling and replacing missing/unknown values\n",
    "crime_data['Vict Descent'].fillna('X',inplace=True)\n",
    "crime_data['Vict Descent'].replace(to_replace='-',value='X',inplace=True)"
   ]
  },
  {
   "cell_type": "code",
   "execution_count": 28,
   "id": "aeb9cea3",
   "metadata": {},
   "outputs": [],
   "source": [
    "# handling semantic errors in data\n",
    "crime_data = crime_data[crime_data['Vict Age'].between(0, 100)]"
   ]
  },
  {
   "cell_type": "code",
   "execution_count": 29,
   "id": "efecff88",
   "metadata": {},
   "outputs": [],
   "source": [
    "# dropping irrelevant columns (relevant information already extracted from the columns or are irrelevant)\n",
    "column_to_drop=['Crm Cd 2','Crm Cd 3','Crm Cd 4','AREA','Part 1-2','Cross Street','DATE OCC','TIME OCC',\n",
    "                'Weapon Used Cd','Weapon Desc','Mocodes']\n",
    "drop_columns(crime_data,column_to_drop)"
   ]
  },
  {
   "cell_type": "code",
   "execution_count": 30,
   "id": "a2b7f82d",
   "metadata": {},
   "outputs": [
    {
     "name": "stdout",
     "output_type": "stream",
     "text": [
      "The nan values in dataset:\n",
      " DR_NO            0\n",
      "Date Rptd        0\n",
      "Date Time OCC    0\n",
      "AREA NAME        0\n",
      "Rpt Dist No      0\n",
      "Crm Cd           0\n",
      "Crm Cd Desc      0\n",
      "Vict Age         0\n",
      "Vict Sex         0\n",
      "Vict Descent     0\n",
      "Premis Cd        0\n",
      "Premis Desc      0\n",
      "Status           0\n",
      "Status Desc      0\n",
      "Crm Cd 1         0\n",
      "LOCATION         0\n",
      "LAT              0\n",
      "LON              0\n",
      "Weapon Used      0\n",
      "dtype: int64\n",
      "\n",
      "The shape of cleaned dataset:\n",
      " (807298, 19)\n"
     ]
    }
   ],
   "source": [
    "# the cleaned dataset\n",
    "print('The nan values in dataset:\\n',crime_data.isna().sum())\n",
    "print('\\nThe shape of cleaned dataset:\\n',crime_data.shape)"
   ]
  },
  {
   "cell_type": "code",
   "execution_count": 31,
   "id": "1cdc613f",
   "metadata": {},
   "outputs": [
    {
     "data": {
      "text/html": [
       "<div>\n",
       "<style scoped>\n",
       "    .dataframe tbody tr th:only-of-type {\n",
       "        vertical-align: middle;\n",
       "    }\n",
       "\n",
       "    .dataframe tbody tr th {\n",
       "        vertical-align: top;\n",
       "    }\n",
       "\n",
       "    .dataframe thead th {\n",
       "        text-align: right;\n",
       "    }\n",
       "</style>\n",
       "<table border=\"1\" class=\"dataframe\">\n",
       "  <thead>\n",
       "    <tr style=\"text-align: right;\">\n",
       "      <th></th>\n",
       "      <th>DR_NO</th>\n",
       "      <th>Date Rptd</th>\n",
       "      <th>Date Time OCC</th>\n",
       "      <th>AREA NAME</th>\n",
       "      <th>Rpt Dist No</th>\n",
       "      <th>Crm Cd</th>\n",
       "      <th>Crm Cd Desc</th>\n",
       "      <th>Vict Age</th>\n",
       "      <th>Vict Sex</th>\n",
       "      <th>Vict Descent</th>\n",
       "      <th>Premis Cd</th>\n",
       "      <th>Premis Desc</th>\n",
       "      <th>Status</th>\n",
       "      <th>Status Desc</th>\n",
       "      <th>Crm Cd 1</th>\n",
       "      <th>LOCATION</th>\n",
       "      <th>LAT</th>\n",
       "      <th>LON</th>\n",
       "      <th>Weapon Used</th>\n",
       "    </tr>\n",
       "  </thead>\n",
       "  <tbody>\n",
       "    <tr>\n",
       "      <th>0</th>\n",
       "      <td>10304468</td>\n",
       "      <td>2020-01-08</td>\n",
       "      <td>2020-01-08 22:30:00</td>\n",
       "      <td>Southwest</td>\n",
       "      <td>377</td>\n",
       "      <td>624</td>\n",
       "      <td>BATTERY - SIMPLE ASSAULT</td>\n",
       "      <td>36</td>\n",
       "      <td>F</td>\n",
       "      <td>B</td>\n",
       "      <td>501.0</td>\n",
       "      <td>SINGLE FAMILY DWELLING</td>\n",
       "      <td>AO</td>\n",
       "      <td>Adult Other</td>\n",
       "      <td>624.0</td>\n",
       "      <td>1100 W  39TH                         PL</td>\n",
       "      <td>34.0141</td>\n",
       "      <td>-118.2978</td>\n",
       "      <td>1</td>\n",
       "    </tr>\n",
       "    <tr>\n",
       "      <th>1</th>\n",
       "      <td>190101086</td>\n",
       "      <td>2020-01-02</td>\n",
       "      <td>2020-01-01 03:30:00</td>\n",
       "      <td>Central</td>\n",
       "      <td>163</td>\n",
       "      <td>624</td>\n",
       "      <td>BATTERY - SIMPLE ASSAULT</td>\n",
       "      <td>25</td>\n",
       "      <td>M</td>\n",
       "      <td>H</td>\n",
       "      <td>102.0</td>\n",
       "      <td>SIDEWALK</td>\n",
       "      <td>IC</td>\n",
       "      <td>Invest Cont</td>\n",
       "      <td>624.0</td>\n",
       "      <td>700 S  HILL                         ST</td>\n",
       "      <td>34.0459</td>\n",
       "      <td>-118.2545</td>\n",
       "      <td>1</td>\n",
       "    </tr>\n",
       "    <tr>\n",
       "      <th>2</th>\n",
       "      <td>200110444</td>\n",
       "      <td>2020-04-14</td>\n",
       "      <td>2020-02-13 12:00:00</td>\n",
       "      <td>Central</td>\n",
       "      <td>155</td>\n",
       "      <td>845</td>\n",
       "      <td>SEX OFFENDER REGISTRANT OUT OF COMPLIANCE</td>\n",
       "      <td>0</td>\n",
       "      <td>X</td>\n",
       "      <td>X</td>\n",
       "      <td>726.0</td>\n",
       "      <td>POLICE FACILITY</td>\n",
       "      <td>AA</td>\n",
       "      <td>Adult Arrest</td>\n",
       "      <td>845.0</td>\n",
       "      <td>200 E  6TH                          ST</td>\n",
       "      <td>34.0448</td>\n",
       "      <td>-118.2474</td>\n",
       "      <td>0</td>\n",
       "    </tr>\n",
       "    <tr>\n",
       "      <th>3</th>\n",
       "      <td>191501505</td>\n",
       "      <td>2020-01-01</td>\n",
       "      <td>2020-01-01 17:30:00</td>\n",
       "      <td>N Hollywood</td>\n",
       "      <td>1543</td>\n",
       "      <td>745</td>\n",
       "      <td>VANDALISM - MISDEAMEANOR ($399 OR UNDER)</td>\n",
       "      <td>76</td>\n",
       "      <td>F</td>\n",
       "      <td>W</td>\n",
       "      <td>502.0</td>\n",
       "      <td>MULTI-UNIT DWELLING (APARTMENT, DUPLEX, ETC)</td>\n",
       "      <td>IC</td>\n",
       "      <td>Invest Cont</td>\n",
       "      <td>745.0</td>\n",
       "      <td>5400    CORTEEN                      PL</td>\n",
       "      <td>34.1685</td>\n",
       "      <td>-118.4019</td>\n",
       "      <td>0</td>\n",
       "    </tr>\n",
       "    <tr>\n",
       "      <th>4</th>\n",
       "      <td>191921269</td>\n",
       "      <td>2020-01-01</td>\n",
       "      <td>2020-01-01 04:15:00</td>\n",
       "      <td>Mission</td>\n",
       "      <td>1998</td>\n",
       "      <td>740</td>\n",
       "      <td>VANDALISM - FELONY ($400 &amp; OVER, ALL CHURCH VA...</td>\n",
       "      <td>31</td>\n",
       "      <td>X</td>\n",
       "      <td>X</td>\n",
       "      <td>409.0</td>\n",
       "      <td>BEAUTY SUPPLY STORE</td>\n",
       "      <td>IC</td>\n",
       "      <td>Invest Cont</td>\n",
       "      <td>740.0</td>\n",
       "      <td>14400    TITUS                        ST</td>\n",
       "      <td>34.2198</td>\n",
       "      <td>-118.4468</td>\n",
       "      <td>0</td>\n",
       "    </tr>\n",
       "  </tbody>\n",
       "</table>\n",
       "</div>"
      ],
      "text/plain": [
       "       DR_NO  Date Rptd       Date Time OCC    AREA NAME  Rpt Dist No  Crm Cd  \\\n",
       "0   10304468 2020-01-08 2020-01-08 22:30:00    Southwest          377     624   \n",
       "1  190101086 2020-01-02 2020-01-01 03:30:00      Central          163     624   \n",
       "2  200110444 2020-04-14 2020-02-13 12:00:00      Central          155     845   \n",
       "3  191501505 2020-01-01 2020-01-01 17:30:00  N Hollywood         1543     745   \n",
       "4  191921269 2020-01-01 2020-01-01 04:15:00      Mission         1998     740   \n",
       "\n",
       "                                         Crm Cd Desc  Vict Age Vict Sex  \\\n",
       "0                           BATTERY - SIMPLE ASSAULT        36        F   \n",
       "1                           BATTERY - SIMPLE ASSAULT        25        M   \n",
       "2          SEX OFFENDER REGISTRANT OUT OF COMPLIANCE         0        X   \n",
       "3           VANDALISM - MISDEAMEANOR ($399 OR UNDER)        76        F   \n",
       "4  VANDALISM - FELONY ($400 & OVER, ALL CHURCH VA...        31        X   \n",
       "\n",
       "  Vict Descent  Premis Cd                                   Premis Desc  \\\n",
       "0            B      501.0                        SINGLE FAMILY DWELLING   \n",
       "1            H      102.0                                      SIDEWALK   \n",
       "2            X      726.0                               POLICE FACILITY   \n",
       "3            W      502.0  MULTI-UNIT DWELLING (APARTMENT, DUPLEX, ETC)   \n",
       "4            X      409.0                           BEAUTY SUPPLY STORE   \n",
       "\n",
       "  Status   Status Desc  Crm Cd 1                                   LOCATION  \\\n",
       "0     AO   Adult Other     624.0   1100 W  39TH                         PL    \n",
       "1     IC   Invest Cont     624.0    700 S  HILL                         ST    \n",
       "2     AA  Adult Arrest     845.0    200 E  6TH                          ST    \n",
       "3     IC   Invest Cont     745.0   5400    CORTEEN                      PL    \n",
       "4     IC   Invest Cont     740.0  14400    TITUS                        ST    \n",
       "\n",
       "       LAT       LON  Weapon Used  \n",
       "0  34.0141 -118.2978            1  \n",
       "1  34.0459 -118.2545            1  \n",
       "2  34.0448 -118.2474            0  \n",
       "3  34.1685 -118.4019            0  \n",
       "4  34.2198 -118.4468            0  "
      ]
     },
     "execution_count": 31,
     "metadata": {},
     "output_type": "execute_result"
    }
   ],
   "source": [
    "# Displaying first 5 rows of the Dataframe\n",
    "crime_data.head()"
   ]
  },
  {
   "cell_type": "code",
   "execution_count": 32,
   "id": "e4591793",
   "metadata": {},
   "outputs": [],
   "source": [
    "# Creating columns for year, month and year_month\n",
    "crime_data['Year'] = crime_data['Date Time OCC'].dt.year\n",
    "crime_data['Month'] = crime_data['Date Time OCC'].dt.month\n",
    "crime_data['Year_Month'] = crime_data['Date Time OCC'].dt.strftime('%Y-%m')"
   ]
  },
  {
   "cell_type": "code",
   "execution_count": 34,
   "id": "ed0a308c",
   "metadata": {},
   "outputs": [],
   "source": [
    "# Converting Time OCC column into hours and minutes\n",
    "crime_data1['TIME OCC'] = crime_data1['TIME OCC'].apply(lambda x: f'{x//100:02}:{x%100:02}')"
   ]
  },
  {
   "cell_type": "code",
   "execution_count": 35,
   "id": "0a17bdc2",
   "metadata": {},
   "outputs": [
    {
     "data": {
      "text/html": [
       "<div>\n",
       "<style scoped>\n",
       "    .dataframe tbody tr th:only-of-type {\n",
       "        vertical-align: middle;\n",
       "    }\n",
       "\n",
       "    .dataframe tbody tr th {\n",
       "        vertical-align: top;\n",
       "    }\n",
       "\n",
       "    .dataframe thead th {\n",
       "        text-align: right;\n",
       "    }\n",
       "</style>\n",
       "<table border=\"1\" class=\"dataframe\">\n",
       "  <thead>\n",
       "    <tr style=\"text-align: right;\">\n",
       "      <th></th>\n",
       "      <th>DR_NO</th>\n",
       "      <th>Date Rptd</th>\n",
       "      <th>DATE OCC</th>\n",
       "      <th>TIME OCC</th>\n",
       "      <th>AREA</th>\n",
       "      <th>AREA NAME</th>\n",
       "      <th>Rpt Dist No</th>\n",
       "      <th>Part 1-2</th>\n",
       "      <th>Crm Cd</th>\n",
       "      <th>Crm Cd Desc</th>\n",
       "      <th>...</th>\n",
       "      <th>Status Desc</th>\n",
       "      <th>Crm Cd 1</th>\n",
       "      <th>Crm Cd 2</th>\n",
       "      <th>Crm Cd 3</th>\n",
       "      <th>Crm Cd 4</th>\n",
       "      <th>LOCATION</th>\n",
       "      <th>Cross Street</th>\n",
       "      <th>LAT</th>\n",
       "      <th>LON</th>\n",
       "      <th>Weapon Used</th>\n",
       "    </tr>\n",
       "  </thead>\n",
       "  <tbody>\n",
       "    <tr>\n",
       "      <th>0</th>\n",
       "      <td>10304468</td>\n",
       "      <td>2020-01-08</td>\n",
       "      <td>2020-01-08</td>\n",
       "      <td>22:30</td>\n",
       "      <td>3</td>\n",
       "      <td>Southwest</td>\n",
       "      <td>377</td>\n",
       "      <td>2</td>\n",
       "      <td>624</td>\n",
       "      <td>BATTERY - SIMPLE ASSAULT</td>\n",
       "      <td>...</td>\n",
       "      <td>Adult Other</td>\n",
       "      <td>624.0</td>\n",
       "      <td>NaN</td>\n",
       "      <td>NaN</td>\n",
       "      <td>NaN</td>\n",
       "      <td>1100 W  39TH                         PL</td>\n",
       "      <td></td>\n",
       "      <td>34.0141</td>\n",
       "      <td>-118.2978</td>\n",
       "      <td>1</td>\n",
       "    </tr>\n",
       "    <tr>\n",
       "      <th>1</th>\n",
       "      <td>190101086</td>\n",
       "      <td>2020-01-02</td>\n",
       "      <td>2020-01-01</td>\n",
       "      <td>03:30</td>\n",
       "      <td>1</td>\n",
       "      <td>Central</td>\n",
       "      <td>163</td>\n",
       "      <td>2</td>\n",
       "      <td>624</td>\n",
       "      <td>BATTERY - SIMPLE ASSAULT</td>\n",
       "      <td>...</td>\n",
       "      <td>Invest Cont</td>\n",
       "      <td>624.0</td>\n",
       "      <td>NaN</td>\n",
       "      <td>NaN</td>\n",
       "      <td>NaN</td>\n",
       "      <td>700 S  HILL                         ST</td>\n",
       "      <td></td>\n",
       "      <td>34.0459</td>\n",
       "      <td>-118.2545</td>\n",
       "      <td>1</td>\n",
       "    </tr>\n",
       "    <tr>\n",
       "      <th>2</th>\n",
       "      <td>200110444</td>\n",
       "      <td>2020-04-14</td>\n",
       "      <td>2020-02-13</td>\n",
       "      <td>12:00</td>\n",
       "      <td>1</td>\n",
       "      <td>Central</td>\n",
       "      <td>155</td>\n",
       "      <td>2</td>\n",
       "      <td>845</td>\n",
       "      <td>SEX OFFENDER REGISTRANT OUT OF COMPLIANCE</td>\n",
       "      <td>...</td>\n",
       "      <td>Adult Arrest</td>\n",
       "      <td>845.0</td>\n",
       "      <td>NaN</td>\n",
       "      <td>NaN</td>\n",
       "      <td>NaN</td>\n",
       "      <td>200 E  6TH                          ST</td>\n",
       "      <td></td>\n",
       "      <td>34.0448</td>\n",
       "      <td>-118.2474</td>\n",
       "      <td>0</td>\n",
       "    </tr>\n",
       "    <tr>\n",
       "      <th>3</th>\n",
       "      <td>191501505</td>\n",
       "      <td>2020-01-01</td>\n",
       "      <td>2020-01-01</td>\n",
       "      <td>17:30</td>\n",
       "      <td>15</td>\n",
       "      <td>N Hollywood</td>\n",
       "      <td>1543</td>\n",
       "      <td>2</td>\n",
       "      <td>745</td>\n",
       "      <td>VANDALISM - MISDEAMEANOR ($399 OR UNDER)</td>\n",
       "      <td>...</td>\n",
       "      <td>Invest Cont</td>\n",
       "      <td>745.0</td>\n",
       "      <td>998.0</td>\n",
       "      <td>NaN</td>\n",
       "      <td>NaN</td>\n",
       "      <td>5400    CORTEEN                      PL</td>\n",
       "      <td></td>\n",
       "      <td>34.1685</td>\n",
       "      <td>-118.4019</td>\n",
       "      <td>0</td>\n",
       "    </tr>\n",
       "    <tr>\n",
       "      <th>4</th>\n",
       "      <td>191921269</td>\n",
       "      <td>2020-01-01</td>\n",
       "      <td>2020-01-01</td>\n",
       "      <td>04:15</td>\n",
       "      <td>19</td>\n",
       "      <td>Mission</td>\n",
       "      <td>1998</td>\n",
       "      <td>2</td>\n",
       "      <td>740</td>\n",
       "      <td>VANDALISM - FELONY ($400 &amp; OVER, ALL CHURCH VA...</td>\n",
       "      <td>...</td>\n",
       "      <td>Invest Cont</td>\n",
       "      <td>740.0</td>\n",
       "      <td>NaN</td>\n",
       "      <td>NaN</td>\n",
       "      <td>NaN</td>\n",
       "      <td>14400    TITUS                        ST</td>\n",
       "      <td></td>\n",
       "      <td>34.2198</td>\n",
       "      <td>-118.4468</td>\n",
       "      <td>0</td>\n",
       "    </tr>\n",
       "  </tbody>\n",
       "</table>\n",
       "<p>5 rows × 29 columns</p>\n",
       "</div>"
      ],
      "text/plain": [
       "       DR_NO  Date Rptd   DATE OCC TIME OCC  AREA    AREA NAME  Rpt Dist No  \\\n",
       "0   10304468 2020-01-08 2020-01-08    22:30     3    Southwest          377   \n",
       "1  190101086 2020-01-02 2020-01-01    03:30     1      Central          163   \n",
       "2  200110444 2020-04-14 2020-02-13    12:00     1      Central          155   \n",
       "3  191501505 2020-01-01 2020-01-01    17:30    15  N Hollywood         1543   \n",
       "4  191921269 2020-01-01 2020-01-01    04:15    19      Mission         1998   \n",
       "\n",
       "  Part 1-2  Crm Cd                                        Crm Cd Desc  ...  \\\n",
       "0        2     624                           BATTERY - SIMPLE ASSAULT  ...   \n",
       "1        2     624                           BATTERY - SIMPLE ASSAULT  ...   \n",
       "2        2     845          SEX OFFENDER REGISTRANT OUT OF COMPLIANCE  ...   \n",
       "3        2     745           VANDALISM - MISDEAMEANOR ($399 OR UNDER)  ...   \n",
       "4        2     740  VANDALISM - FELONY ($400 & OVER, ALL CHURCH VA...  ...   \n",
       "\n",
       "    Status Desc  Crm Cd 1 Crm Cd 2 Crm Cd 3  Crm Cd 4  \\\n",
       "0   Adult Other     624.0      NaN      NaN       NaN   \n",
       "1   Invest Cont     624.0      NaN      NaN       NaN   \n",
       "2  Adult Arrest     845.0      NaN      NaN       NaN   \n",
       "3   Invest Cont     745.0    998.0      NaN       NaN   \n",
       "4   Invest Cont     740.0      NaN      NaN       NaN   \n",
       "\n",
       "                                    LOCATION  Cross Street      LAT       LON  \\\n",
       "0   1100 W  39TH                         PL                 34.0141 -118.2978   \n",
       "1    700 S  HILL                         ST                 34.0459 -118.2545   \n",
       "2    200 E  6TH                          ST                 34.0448 -118.2474   \n",
       "3   5400    CORTEEN                      PL                 34.1685 -118.4019   \n",
       "4  14400    TITUS                        ST                 34.2198 -118.4468   \n",
       "\n",
       "  Weapon Used  \n",
       "0           1  \n",
       "1           1  \n",
       "2           0  \n",
       "3           0  \n",
       "4           0  \n",
       "\n",
       "[5 rows x 29 columns]"
      ]
     },
     "execution_count": 35,
     "metadata": {},
     "output_type": "execute_result"
    }
   ],
   "source": [
    "# Converting into Date time format\n",
    "crime_data1['DATE OCC'] = pd.to_datetime(crime_data1['DATE OCC'])\n",
    "crime_data1.head()"
   ]
  },
  {
   "cell_type": "code",
   "execution_count": 36,
   "id": "3ff5633e",
   "metadata": {},
   "outputs": [],
   "source": [
    "crime_data.to_csv('Cleaned_df.csv',index=False)"
   ]
  }
 ],
 "metadata": {
  "kernelspec": {
   "display_name": "Python 3 (ipykernel)",
   "language": "python",
   "name": "python3"
  },
  "language_info": {
   "codemirror_mode": {
    "name": "ipython",
    "version": 3
   },
   "file_extension": ".py",
   "mimetype": "text/x-python",
   "name": "python",
   "nbconvert_exporter": "python",
   "pygments_lexer": "ipython3",
   "version": "3.11.4"
  }
 },
 "nbformat": 4,
 "nbformat_minor": 5
}
